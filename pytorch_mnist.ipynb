{
 "cells": [
  {
   "cell_type": "code",
   "execution_count": 22,
   "metadata": {},
   "outputs": [],
   "source": [
    "import torch\n",
    "import torch.nn as nn\n",
    "import torch.nn.functional as F\n",
    "import numpy as np\n",
    "import torch.optim as optim"
   ]
  },
  {
   "cell_type": "code",
   "execution_count": 2,
   "metadata": {},
   "outputs": [],
   "source": [
    "#datasets and dataloaders \n",
    "import torchvision\n",
    "import torchvision.transforms as transforms \n",
    "#output of torchvision pkg are pil image of range [0,1]. transforms to tensor of normalised range[-1,1] "
   ]
  },
  {
   "cell_type": "code",
   "execution_count": null,
   "metadata": {},
   "outputs": [],
   "source": [
    "n_epochs = 3\n",
    "batch_size_train = 64\n",
    "batch_size_test = 1000\n",
    "learning_rate = 0.01\n",
    "momentum = 0.5\n",
    "log_interval = 10\n",
    "\n",
    "random_seed = 1\n",
    "torch.backends.cudnn.enabled = False\n",
    "torch.manual_seed(random_seed)"
   ]
  },
  {
   "cell_type": "code",
   "execution_count": 23,
   "metadata": {},
   "outputs": [],
   "source": [
    "class Net(nn.Module):\n",
    "    def __init__(self):\n",
    "        super(Net, self).__init__()\n",
    "        self.conv1 = nn.Conv2d(1, 10, kernel_size=5)\n",
    "        self.conv2 = nn.Conv2d(10, 20, kernel_size=5)\n",
    "        self.conv2_drop = nn.Dropout2d()\n",
    "        self.fc1 = nn.Linear(320, 50)\n",
    "        self.fc2 = nn.Linear(50, 10)\n",
    "\n",
    "    def forward(self, x):\n",
    "        x = F.relu(F.max_pool2d(self.conv1(x), 2))\n",
    "        x = F.relu(F.max_pool2d(self.conv2_drop(self.conv2(x)), 2))\n",
    "        x = x.view(-1, 320)\n",
    "        x = F.relu(self.fc1(x))\n",
    "        x=F.dropout(x,training=self.training)\n",
    "        x=self.fc2(x)\n",
    "        return F.log_softmax(x)"
   ]
  },
  {
   "cell_type": "code",
   "execution_count": 24,
   "metadata": {},
   "outputs": [],
   "source": [
    "network=Net()\n",
    "optimizer=optim.SGD(network.parameters(),lr=learning_rate,momentum=momentum)"
   ]
  },
  {
   "cell_type": "code",
   "execution_count": 25,
   "metadata": {},
   "outputs": [],
   "source": [
    "train_losses = []\n",
    "train_counter = []\n",
    "test_losses = []\n",
    "test_counter = [i*len(train_loader.dataset) for i in range(n_epochs + 1)]"
   ]
  },
  {
   "cell_type": "code",
   "execution_count": 26,
   "metadata": {},
   "outputs": [],
   "source": [
    "def train(epoch):\n",
    "  network.train()\n",
    "  for batch_idx, (data, target) in enumerate(train_loader):\n",
    "    optimizer.zero_grad()\n",
    "    output = network(data)\n",
    "    loss = F.nll_loss(output, target)\n",
    "    loss.backward()\n",
    "    optimizer.step()\n",
    "    if batch_idx % log_interval == 0:\n",
    "      print('Train Epoch: {} [{}/{} ({:.0f}%)]\\tLoss: {:.6f}'.format(\n",
    "        epoch, batch_idx * len(data), len(train_loader.dataset),\n",
    "        100. * batch_idx / len(train_loader), loss.item()))\n",
    "      train_losses.append(loss.item())\n",
    "      train_counter.append(\n",
    "        (batch_idx*64) + ((epoch-1)*len(train_loader.dataset)))\n",
    "      torch.save(network.state_dict(), '/Users/anujatayal/Documents/codes/model.pth')\n",
    "      torch.save(optimizer.state_dict(), '/Users/anujatayal/Documents/codes/optimizer.pth')"
   ]
  },
  {
   "cell_type": "code",
   "execution_count": 27,
   "metadata": {},
   "outputs": [],
   "source": [
    "def test():\n",
    "  network.eval()\n",
    "  test_loss = 0\n",
    "  correct = 0\n",
    "  with torch.no_grad():\n",
    "    for data, target in test_loader:\n",
    "      output = network(data)\n",
    "      test_loss += F.nll_loss(output, target, size_average=False).item()\n",
    "      pred = output.data.max(1, keepdim=True)[1]\n",
    "      correct += pred.eq(target.data.view_as(pred)).sum()\n",
    "  test_loss /= len(test_loader.dataset)\n",
    "  test_losses.append(test_loss)\n",
    "  print('\\nTest set: Avg. loss: {:.4f}, Accuracy: {}/{} ({:.0f}%)\\n'.format(\n",
    "    test_loss, correct, len(test_loader.dataset),\n",
    "    100. * correct / len(test_loader.dataset)))"
   ]
  },
  {
   "cell_type": "code",
   "execution_count": 28,
   "metadata": {},
   "outputs": [
    {
     "name": "stderr",
     "output_type": "stream",
     "text": [
      "/Library/Frameworks/Python.framework/Versions/3.6/lib/python3.6/site-packages/ipykernel_launcher.py:17: UserWarning: Implicit dimension choice for log_softmax has been deprecated. Change the call to include dim=X as an argument.\n",
      "/Library/Frameworks/Python.framework/Versions/3.6/lib/python3.6/site-packages/torch/nn/_reduction.py:46: UserWarning: size_average and reduce args will be deprecated, please use reduction='sum' instead.\n",
      "  warnings.warn(warning.format(ret))\n"
     ]
    },
    {
     "name": "stdout",
     "output_type": "stream",
     "text": [
      "\n",
      "Test set: Avg. loss: 2.3309, Accuracy: 806/10000 (8%)\n",
      "\n",
      "Train Epoch: 1 [0/60000 (0%)]\tLoss: 2.370831\n",
      "Train Epoch: 1 [640/60000 (1%)]\tLoss: 2.345562\n",
      "Train Epoch: 1 [1280/60000 (2%)]\tLoss: 2.287033\n",
      "Train Epoch: 1 [1920/60000 (3%)]\tLoss: 2.261512\n",
      "Train Epoch: 1 [2560/60000 (4%)]\tLoss: 2.246576\n",
      "Train Epoch: 1 [3200/60000 (5%)]\tLoss: 2.227893\n",
      "Train Epoch: 1 [3840/60000 (6%)]\tLoss: 2.247630\n",
      "Train Epoch: 1 [4480/60000 (7%)]\tLoss: 2.175467\n",
      "Train Epoch: 1 [5120/60000 (9%)]\tLoss: 2.174043\n",
      "Train Epoch: 1 [5760/60000 (10%)]\tLoss: 2.146127\n",
      "Train Epoch: 1 [6400/60000 (11%)]\tLoss: 2.153553\n",
      "Train Epoch: 1 [7040/60000 (12%)]\tLoss: 2.083349\n",
      "Train Epoch: 1 [7680/60000 (13%)]\tLoss: 1.871321\n",
      "Train Epoch: 1 [8320/60000 (14%)]\tLoss: 1.761927\n",
      "Train Epoch: 1 [8960/60000 (15%)]\tLoss: 1.660498\n",
      "Train Epoch: 1 [9600/60000 (16%)]\tLoss: 1.524118\n",
      "Train Epoch: 1 [10240/60000 (17%)]\tLoss: 1.488129\n",
      "Train Epoch: 1 [10880/60000 (18%)]\tLoss: 1.348530\n",
      "Train Epoch: 1 [11520/60000 (19%)]\tLoss: 1.326029\n",
      "Train Epoch: 1 [12160/60000 (20%)]\tLoss: 1.097158\n",
      "Train Epoch: 1 [12800/60000 (21%)]\tLoss: 1.197323\n",
      "Train Epoch: 1 [13440/60000 (22%)]\tLoss: 1.234960\n",
      "Train Epoch: 1 [14080/60000 (23%)]\tLoss: 1.134795\n",
      "Train Epoch: 1 [14720/60000 (25%)]\tLoss: 1.173106\n",
      "Train Epoch: 1 [15360/60000 (26%)]\tLoss: 1.063571\n",
      "Train Epoch: 1 [16000/60000 (27%)]\tLoss: 1.009199\n",
      "Train Epoch: 1 [16640/60000 (28%)]\tLoss: 1.026057\n",
      "Train Epoch: 1 [17280/60000 (29%)]\tLoss: 1.142143\n",
      "Train Epoch: 1 [17920/60000 (30%)]\tLoss: 1.112768\n",
      "Train Epoch: 1 [18560/60000 (31%)]\tLoss: 0.884251\n",
      "Train Epoch: 1 [19200/60000 (32%)]\tLoss: 0.887404\n",
      "Train Epoch: 1 [19840/60000 (33%)]\tLoss: 0.834943\n",
      "Train Epoch: 1 [20480/60000 (34%)]\tLoss: 0.863693\n",
      "Train Epoch: 1 [21120/60000 (35%)]\tLoss: 0.804727\n",
      "Train Epoch: 1 [21760/60000 (36%)]\tLoss: 0.861060\n",
      "Train Epoch: 1 [22400/60000 (37%)]\tLoss: 1.032244\n",
      "Train Epoch: 1 [23040/60000 (38%)]\tLoss: 0.888662\n",
      "Train Epoch: 1 [23680/60000 (39%)]\tLoss: 0.888245\n",
      "Train Epoch: 1 [24320/60000 (41%)]\tLoss: 0.701109\n",
      "Train Epoch: 1 [24960/60000 (42%)]\tLoss: 0.735203\n",
      "Train Epoch: 1 [25600/60000 (43%)]\tLoss: 0.647303\n",
      "Train Epoch: 1 [26240/60000 (44%)]\tLoss: 0.632197\n",
      "Train Epoch: 1 [26880/60000 (45%)]\tLoss: 0.564153\n",
      "Train Epoch: 1 [27520/60000 (46%)]\tLoss: 0.982286\n",
      "Train Epoch: 1 [28160/60000 (47%)]\tLoss: 0.609534\n",
      "Train Epoch: 1 [28800/60000 (48%)]\tLoss: 0.953519\n",
      "Train Epoch: 1 [29440/60000 (49%)]\tLoss: 0.639388\n",
      "Train Epoch: 1 [30080/60000 (50%)]\tLoss: 0.657317\n",
      "Train Epoch: 1 [30720/60000 (51%)]\tLoss: 0.868856\n",
      "Train Epoch: 1 [31360/60000 (52%)]\tLoss: 0.717832\n",
      "Train Epoch: 1 [32000/60000 (53%)]\tLoss: 0.602190\n",
      "Train Epoch: 1 [32640/60000 (54%)]\tLoss: 0.724331\n",
      "Train Epoch: 1 [33280/60000 (55%)]\tLoss: 0.586578\n",
      "Train Epoch: 1 [33920/60000 (57%)]\tLoss: 0.763312\n",
      "Train Epoch: 1 [34560/60000 (58%)]\tLoss: 0.550530\n",
      "Train Epoch: 1 [35200/60000 (59%)]\tLoss: 0.724263\n",
      "Train Epoch: 1 [35840/60000 (60%)]\tLoss: 0.590768\n",
      "Train Epoch: 1 [36480/60000 (61%)]\tLoss: 0.766840\n",
      "Train Epoch: 1 [37120/60000 (62%)]\tLoss: 0.703857\n",
      "Train Epoch: 1 [37760/60000 (63%)]\tLoss: 0.537856\n",
      "Train Epoch: 1 [38400/60000 (64%)]\tLoss: 0.766922\n",
      "Train Epoch: 1 [39040/60000 (65%)]\tLoss: 0.563460\n",
      "Train Epoch: 1 [39680/60000 (66%)]\tLoss: 0.662850\n",
      "Train Epoch: 1 [40320/60000 (67%)]\tLoss: 0.847945\n",
      "Train Epoch: 1 [40960/60000 (68%)]\tLoss: 0.630711\n",
      "Train Epoch: 1 [41600/60000 (69%)]\tLoss: 0.558759\n",
      "Train Epoch: 1 [42240/60000 (70%)]\tLoss: 0.584878\n",
      "Train Epoch: 1 [42880/60000 (71%)]\tLoss: 0.489935\n",
      "Train Epoch: 1 [43520/60000 (72%)]\tLoss: 0.697493\n",
      "Train Epoch: 1 [44160/60000 (74%)]\tLoss: 0.435224\n",
      "Train Epoch: 1 [44800/60000 (75%)]\tLoss: 0.656153\n",
      "Train Epoch: 1 [45440/60000 (76%)]\tLoss: 0.555639\n",
      "Train Epoch: 1 [46080/60000 (77%)]\tLoss: 0.650238\n",
      "Train Epoch: 1 [46720/60000 (78%)]\tLoss: 0.664079\n",
      "Train Epoch: 1 [47360/60000 (79%)]\tLoss: 0.391115\n",
      "Train Epoch: 1 [48000/60000 (80%)]\tLoss: 0.473427\n",
      "Train Epoch: 1 [48640/60000 (81%)]\tLoss: 0.551898\n",
      "Train Epoch: 1 [49280/60000 (82%)]\tLoss: 0.359979\n",
      "Train Epoch: 1 [49920/60000 (83%)]\tLoss: 0.386811\n",
      "Train Epoch: 1 [50560/60000 (84%)]\tLoss: 0.405573\n",
      "Train Epoch: 1 [51200/60000 (85%)]\tLoss: 0.239706\n",
      "Train Epoch: 1 [51840/60000 (86%)]\tLoss: 0.394537\n",
      "Train Epoch: 1 [52480/60000 (87%)]\tLoss: 0.822076\n",
      "Train Epoch: 1 [53120/60000 (88%)]\tLoss: 0.602740\n",
      "Train Epoch: 1 [53760/60000 (90%)]\tLoss: 0.413598\n",
      "Train Epoch: 1 [54400/60000 (91%)]\tLoss: 0.339008\n",
      "Train Epoch: 1 [55040/60000 (92%)]\tLoss: 0.399684\n",
      "Train Epoch: 1 [55680/60000 (93%)]\tLoss: 0.521564\n",
      "Train Epoch: 1 [56320/60000 (94%)]\tLoss: 0.624606\n",
      "Train Epoch: 1 [56960/60000 (95%)]\tLoss: 0.476612\n",
      "Train Epoch: 1 [57600/60000 (96%)]\tLoss: 0.537256\n",
      "Train Epoch: 1 [58240/60000 (97%)]\tLoss: 0.502093\n",
      "Train Epoch: 1 [58880/60000 (98%)]\tLoss: 0.383338\n",
      "Train Epoch: 1 [59520/60000 (99%)]\tLoss: 0.385736\n",
      "\n",
      "Test set: Avg. loss: 0.2006, Accuracy: 9407/10000 (94%)\n",
      "\n",
      "Train Epoch: 2 [0/60000 (0%)]\tLoss: 0.471284\n",
      "Train Epoch: 2 [640/60000 (1%)]\tLoss: 0.272991\n",
      "Train Epoch: 2 [1280/60000 (2%)]\tLoss: 0.275556\n",
      "Train Epoch: 2 [1920/60000 (3%)]\tLoss: 0.482845\n",
      "Train Epoch: 2 [2560/60000 (4%)]\tLoss: 0.711704\n",
      "Train Epoch: 2 [3200/60000 (5%)]\tLoss: 0.635302\n",
      "Train Epoch: 2 [3840/60000 (6%)]\tLoss: 0.394490\n",
      "Train Epoch: 2 [4480/60000 (7%)]\tLoss: 0.447689\n",
      "Train Epoch: 2 [5120/60000 (9%)]\tLoss: 0.537616\n",
      "Train Epoch: 2 [5760/60000 (10%)]\tLoss: 0.401822\n",
      "Train Epoch: 2 [6400/60000 (11%)]\tLoss: 0.325424\n",
      "Train Epoch: 2 [7040/60000 (12%)]\tLoss: 0.502488\n",
      "Train Epoch: 2 [7680/60000 (13%)]\tLoss: 0.293377\n",
      "Train Epoch: 2 [8320/60000 (14%)]\tLoss: 0.262106\n",
      "Train Epoch: 2 [8960/60000 (15%)]\tLoss: 0.441685\n",
      "Train Epoch: 2 [9600/60000 (16%)]\tLoss: 0.319294\n",
      "Train Epoch: 2 [10240/60000 (17%)]\tLoss: 0.302840\n",
      "Train Epoch: 2 [10880/60000 (18%)]\tLoss: 0.606076\n",
      "Train Epoch: 2 [11520/60000 (19%)]\tLoss: 0.545910\n",
      "Train Epoch: 2 [12160/60000 (20%)]\tLoss: 0.501838\n",
      "Train Epoch: 2 [12800/60000 (21%)]\tLoss: 0.481273\n",
      "Train Epoch: 2 [13440/60000 (22%)]\tLoss: 0.401651\n",
      "Train Epoch: 2 [14080/60000 (23%)]\tLoss: 0.506436\n",
      "Train Epoch: 2 [14720/60000 (25%)]\tLoss: 0.485035\n",
      "Train Epoch: 2 [15360/60000 (26%)]\tLoss: 0.465727\n",
      "Train Epoch: 2 [16000/60000 (27%)]\tLoss: 0.230732\n",
      "Train Epoch: 2 [16640/60000 (28%)]\tLoss: 0.460504\n",
      "Train Epoch: 2 [17280/60000 (29%)]\tLoss: 0.283863\n",
      "Train Epoch: 2 [17920/60000 (30%)]\tLoss: 0.649678\n",
      "Train Epoch: 2 [18560/60000 (31%)]\tLoss: 0.300354\n",
      "Train Epoch: 2 [19200/60000 (32%)]\tLoss: 0.432886\n",
      "Train Epoch: 2 [19840/60000 (33%)]\tLoss: 0.180497\n",
      "Train Epoch: 2 [20480/60000 (34%)]\tLoss: 0.327052\n",
      "Train Epoch: 2 [21120/60000 (35%)]\tLoss: 0.389350\n",
      "Train Epoch: 2 [21760/60000 (36%)]\tLoss: 0.403399\n",
      "Train Epoch: 2 [22400/60000 (37%)]\tLoss: 0.362600\n",
      "Train Epoch: 2 [23040/60000 (38%)]\tLoss: 0.306971\n",
      "Train Epoch: 2 [23680/60000 (39%)]\tLoss: 0.442096\n",
      "Train Epoch: 2 [24320/60000 (41%)]\tLoss: 0.481972\n",
      "Train Epoch: 2 [24960/60000 (42%)]\tLoss: 0.146717\n",
      "Train Epoch: 2 [25600/60000 (43%)]\tLoss: 0.367105\n",
      "Train Epoch: 2 [26240/60000 (44%)]\tLoss: 0.476193\n",
      "Train Epoch: 2 [26880/60000 (45%)]\tLoss: 0.237816\n",
      "Train Epoch: 2 [27520/60000 (46%)]\tLoss: 0.293503\n",
      "Train Epoch: 2 [28160/60000 (47%)]\tLoss: 0.488677\n",
      "Train Epoch: 2 [28800/60000 (48%)]\tLoss: 0.412389\n",
      "Train Epoch: 2 [29440/60000 (49%)]\tLoss: 0.511424\n",
      "Train Epoch: 2 [30080/60000 (50%)]\tLoss: 0.314550\n",
      "Train Epoch: 2 [30720/60000 (51%)]\tLoss: 0.458980\n",
      "Train Epoch: 2 [31360/60000 (52%)]\tLoss: 0.291967\n",
      "Train Epoch: 2 [32000/60000 (53%)]\tLoss: 0.471887\n",
      "Train Epoch: 2 [32640/60000 (54%)]\tLoss: 0.489320\n",
      "Train Epoch: 2 [33280/60000 (55%)]\tLoss: 0.367690\n",
      "Train Epoch: 2 [33920/60000 (57%)]\tLoss: 0.252401\n",
      "Train Epoch: 2 [34560/60000 (58%)]\tLoss: 0.217627\n",
      "Train Epoch: 2 [35200/60000 (59%)]\tLoss: 0.717388\n",
      "Train Epoch: 2 [35840/60000 (60%)]\tLoss: 0.507588\n",
      "Train Epoch: 2 [36480/60000 (61%)]\tLoss: 0.202933\n",
      "Train Epoch: 2 [37120/60000 (62%)]\tLoss: 0.316667\n",
      "Train Epoch: 2 [37760/60000 (63%)]\tLoss: 0.172804\n",
      "Train Epoch: 2 [38400/60000 (64%)]\tLoss: 0.381226\n",
      "Train Epoch: 2 [39040/60000 (65%)]\tLoss: 0.389641\n",
      "Train Epoch: 2 [39680/60000 (66%)]\tLoss: 0.352861\n",
      "Train Epoch: 2 [40320/60000 (67%)]\tLoss: 0.307495\n",
      "Train Epoch: 2 [40960/60000 (68%)]\tLoss: 0.239898\n",
      "Train Epoch: 2 [41600/60000 (69%)]\tLoss: 0.250642\n",
      "Train Epoch: 2 [42240/60000 (70%)]\tLoss: 0.368785\n",
      "Train Epoch: 2 [42880/60000 (71%)]\tLoss: 0.578729\n",
      "Train Epoch: 2 [43520/60000 (72%)]\tLoss: 0.496826\n"
     ]
    },
    {
     "name": "stdout",
     "output_type": "stream",
     "text": [
      "Train Epoch: 2 [44160/60000 (74%)]\tLoss: 0.295547\n",
      "Train Epoch: 2 [44800/60000 (75%)]\tLoss: 0.342177\n",
      "Train Epoch: 2 [45440/60000 (76%)]\tLoss: 0.429554\n",
      "Train Epoch: 2 [46080/60000 (77%)]\tLoss: 0.342350\n",
      "Train Epoch: 2 [46720/60000 (78%)]\tLoss: 0.267260\n",
      "Train Epoch: 2 [47360/60000 (79%)]\tLoss: 0.522537\n",
      "Train Epoch: 2 [48000/60000 (80%)]\tLoss: 0.261616\n",
      "Train Epoch: 2 [48640/60000 (81%)]\tLoss: 0.197961\n",
      "Train Epoch: 2 [49280/60000 (82%)]\tLoss: 0.223912\n",
      "Train Epoch: 2 [49920/60000 (83%)]\tLoss: 0.477524\n",
      "Train Epoch: 2 [50560/60000 (84%)]\tLoss: 0.226046\n",
      "Train Epoch: 2 [51200/60000 (85%)]\tLoss: 0.152290\n",
      "Train Epoch: 2 [51840/60000 (86%)]\tLoss: 0.216164\n",
      "Train Epoch: 2 [52480/60000 (87%)]\tLoss: 0.396627\n",
      "Train Epoch: 2 [53120/60000 (88%)]\tLoss: 0.590171\n",
      "Train Epoch: 2 [53760/60000 (90%)]\tLoss: 0.564205\n",
      "Train Epoch: 2 [54400/60000 (91%)]\tLoss: 0.330463\n",
      "Train Epoch: 2 [55040/60000 (92%)]\tLoss: 0.409339\n",
      "Train Epoch: 2 [55680/60000 (93%)]\tLoss: 0.532534\n",
      "Train Epoch: 2 [56320/60000 (94%)]\tLoss: 0.289361\n",
      "Train Epoch: 2 [56960/60000 (95%)]\tLoss: 0.274346\n",
      "Train Epoch: 2 [57600/60000 (96%)]\tLoss: 0.312519\n",
      "Train Epoch: 2 [58240/60000 (97%)]\tLoss: 0.385015\n",
      "Train Epoch: 2 [58880/60000 (98%)]\tLoss: 0.368534\n",
      "Train Epoch: 2 [59520/60000 (99%)]\tLoss: 0.550248\n",
      "\n",
      "Test set: Avg. loss: 0.1269, Accuracy: 9614/10000 (96%)\n",
      "\n",
      "Train Epoch: 3 [0/60000 (0%)]\tLoss: 0.344771\n",
      "Train Epoch: 3 [640/60000 (1%)]\tLoss: 0.447581\n",
      "Train Epoch: 3 [1280/60000 (2%)]\tLoss: 0.507556\n",
      "Train Epoch: 3 [1920/60000 (3%)]\tLoss: 0.304216\n",
      "Train Epoch: 3 [2560/60000 (4%)]\tLoss: 0.227020\n",
      "Train Epoch: 3 [3200/60000 (5%)]\tLoss: 0.235199\n",
      "Train Epoch: 3 [3840/60000 (6%)]\tLoss: 0.388980\n",
      "Train Epoch: 3 [4480/60000 (7%)]\tLoss: 0.167225\n",
      "Train Epoch: 3 [5120/60000 (9%)]\tLoss: 0.188559\n",
      "Train Epoch: 3 [5760/60000 (10%)]\tLoss: 0.344388\n",
      "Train Epoch: 3 [6400/60000 (11%)]\tLoss: 0.232621\n",
      "Train Epoch: 3 [7040/60000 (12%)]\tLoss: 0.521806\n",
      "Train Epoch: 3 [7680/60000 (13%)]\tLoss: 0.235147\n",
      "Train Epoch: 3 [8320/60000 (14%)]\tLoss: 0.297871\n",
      "Train Epoch: 3 [8960/60000 (15%)]\tLoss: 0.364941\n",
      "Train Epoch: 3 [9600/60000 (16%)]\tLoss: 0.200603\n",
      "Train Epoch: 3 [10240/60000 (17%)]\tLoss: 0.246290\n",
      "Train Epoch: 3 [10880/60000 (18%)]\tLoss: 0.407603\n",
      "Train Epoch: 3 [11520/60000 (19%)]\tLoss: 0.180414\n",
      "Train Epoch: 3 [12160/60000 (20%)]\tLoss: 0.539723\n",
      "Train Epoch: 3 [12800/60000 (21%)]\tLoss: 0.529194\n",
      "Train Epoch: 3 [13440/60000 (22%)]\tLoss: 0.269041\n",
      "Train Epoch: 3 [14080/60000 (23%)]\tLoss: 0.275178\n",
      "Train Epoch: 3 [14720/60000 (25%)]\tLoss: 0.565486\n",
      "Train Epoch: 3 [15360/60000 (26%)]\tLoss: 0.216000\n",
      "Train Epoch: 3 [16000/60000 (27%)]\tLoss: 0.322724\n",
      "Train Epoch: 3 [16640/60000 (28%)]\tLoss: 0.149721\n",
      "Train Epoch: 3 [17280/60000 (29%)]\tLoss: 0.298054\n",
      "Train Epoch: 3 [17920/60000 (30%)]\tLoss: 0.198499\n",
      "Train Epoch: 3 [18560/60000 (31%)]\tLoss: 0.320035\n",
      "Train Epoch: 3 [19200/60000 (32%)]\tLoss: 0.311911\n",
      "Train Epoch: 3 [19840/60000 (33%)]\tLoss: 0.141831\n",
      "Train Epoch: 3 [20480/60000 (34%)]\tLoss: 0.167520\n",
      "Train Epoch: 3 [21120/60000 (35%)]\tLoss: 0.257272\n",
      "Train Epoch: 3 [21760/60000 (36%)]\tLoss: 0.132030\n",
      "Train Epoch: 3 [22400/60000 (37%)]\tLoss: 0.332258\n",
      "Train Epoch: 3 [23040/60000 (38%)]\tLoss: 0.346928\n",
      "Train Epoch: 3 [23680/60000 (39%)]\tLoss: 0.345840\n",
      "Train Epoch: 3 [24320/60000 (41%)]\tLoss: 0.244115\n",
      "Train Epoch: 3 [24960/60000 (42%)]\tLoss: 0.206377\n",
      "Train Epoch: 3 [25600/60000 (43%)]\tLoss: 0.201802\n",
      "Train Epoch: 3 [26240/60000 (44%)]\tLoss: 0.256152\n",
      "Train Epoch: 3 [26880/60000 (45%)]\tLoss: 0.113670\n",
      "Train Epoch: 3 [27520/60000 (46%)]\tLoss: 0.335313\n",
      "Train Epoch: 3 [28160/60000 (47%)]\tLoss: 0.143963\n",
      "Train Epoch: 3 [28800/60000 (48%)]\tLoss: 0.327627\n",
      "Train Epoch: 3 [29440/60000 (49%)]\tLoss: 0.176431\n",
      "Train Epoch: 3 [30080/60000 (50%)]\tLoss: 0.344522\n",
      "Train Epoch: 3 [30720/60000 (51%)]\tLoss: 0.434033\n",
      "Train Epoch: 3 [31360/60000 (52%)]\tLoss: 0.156684\n",
      "Train Epoch: 3 [32000/60000 (53%)]\tLoss: 0.314196\n",
      "Train Epoch: 3 [32640/60000 (54%)]\tLoss: 0.187138\n",
      "Train Epoch: 3 [33280/60000 (55%)]\tLoss: 0.349565\n",
      "Train Epoch: 3 [33920/60000 (57%)]\tLoss: 0.213275\n",
      "Train Epoch: 3 [34560/60000 (58%)]\tLoss: 0.444956\n",
      "Train Epoch: 3 [35200/60000 (59%)]\tLoss: 0.114329\n",
      "Train Epoch: 3 [35840/60000 (60%)]\tLoss: 0.392639\n",
      "Train Epoch: 3 [36480/60000 (61%)]\tLoss: 0.215055\n",
      "Train Epoch: 3 [37120/60000 (62%)]\tLoss: 0.288302\n",
      "Train Epoch: 3 [37760/60000 (63%)]\tLoss: 0.229610\n",
      "Train Epoch: 3 [38400/60000 (64%)]\tLoss: 0.309339\n",
      "Train Epoch: 3 [39040/60000 (65%)]\tLoss: 0.291137\n",
      "Train Epoch: 3 [39680/60000 (66%)]\tLoss: 0.529937\n",
      "Train Epoch: 3 [40320/60000 (67%)]\tLoss: 0.238911\n",
      "Train Epoch: 3 [40960/60000 (68%)]\tLoss: 0.219392\n",
      "Train Epoch: 3 [41600/60000 (69%)]\tLoss: 0.167781\n",
      "Train Epoch: 3 [42240/60000 (70%)]\tLoss: 0.352242\n",
      "Train Epoch: 3 [42880/60000 (71%)]\tLoss: 0.311552\n",
      "Train Epoch: 3 [43520/60000 (72%)]\tLoss: 0.242220\n",
      "Train Epoch: 3 [44160/60000 (74%)]\tLoss: 0.368186\n",
      "Train Epoch: 3 [44800/60000 (75%)]\tLoss: 0.243970\n",
      "Train Epoch: 3 [45440/60000 (76%)]\tLoss: 0.402176\n",
      "Train Epoch: 3 [46080/60000 (77%)]\tLoss: 0.292475\n",
      "Train Epoch: 3 [46720/60000 (78%)]\tLoss: 0.321386\n",
      "Train Epoch: 3 [47360/60000 (79%)]\tLoss: 0.215118\n",
      "Train Epoch: 3 [48000/60000 (80%)]\tLoss: 0.413862\n",
      "Train Epoch: 3 [48640/60000 (81%)]\tLoss: 0.186332\n",
      "Train Epoch: 3 [49280/60000 (82%)]\tLoss: 0.334045\n",
      "Train Epoch: 3 [49920/60000 (83%)]\tLoss: 0.303761\n",
      "Train Epoch: 3 [50560/60000 (84%)]\tLoss: 0.299924\n",
      "Train Epoch: 3 [51200/60000 (85%)]\tLoss: 0.107394\n",
      "Train Epoch: 3 [51840/60000 (86%)]\tLoss: 0.263278\n",
      "Train Epoch: 3 [52480/60000 (87%)]\tLoss: 0.262468\n",
      "Train Epoch: 3 [53120/60000 (88%)]\tLoss: 0.198240\n",
      "Train Epoch: 3 [53760/60000 (90%)]\tLoss: 0.109974\n",
      "Train Epoch: 3 [54400/60000 (91%)]\tLoss: 0.339879\n",
      "Train Epoch: 3 [55040/60000 (92%)]\tLoss: 0.392301\n",
      "Train Epoch: 3 [55680/60000 (93%)]\tLoss: 0.192744\n",
      "Train Epoch: 3 [56320/60000 (94%)]\tLoss: 0.117433\n",
      "Train Epoch: 3 [56960/60000 (95%)]\tLoss: 0.498434\n",
      "Train Epoch: 3 [57600/60000 (96%)]\tLoss: 0.742040\n",
      "Train Epoch: 3 [58240/60000 (97%)]\tLoss: 0.368267\n",
      "Train Epoch: 3 [58880/60000 (98%)]\tLoss: 0.316614\n",
      "Train Epoch: 3 [59520/60000 (99%)]\tLoss: 0.299393\n",
      "\n",
      "Test set: Avg. loss: 0.1018, Accuracy: 9674/10000 (96%)\n",
      "\n"
     ]
    }
   ],
   "source": [
    "test()\n",
    "for epoch in range(1, n_epochs + 1):\n",
    "  train(epoch)\n",
    "  test()"
   ]
  },
  {
   "cell_type": "code",
   "execution_count": 29,
   "metadata": {},
   "outputs": [
    {
     "data": {
      "image/png": "[encoded data removed]",
      "text/plain": [
       "<Figure size 432x288 with 1 Axes>"
      ]
     },
     "execution_count": 29,
     "metadata": {},
     "output_type": "execute_result"
    },
    {
     "data": {
      "image/png": "[encoded data removed]",
      "text/plain": [
       "<Figure size 432x288 with 1 Axes>"
      ]
     },
     "metadata": {
      "needs_background": "light"
     },
     "output_type": "display_data"
    }
   ],
   "source": [
    "fig = plt.figure()\n",
    "plt.plot(train_counter, train_losses, color='blue')\n",
    "plt.scatter(test_counter, test_losses, color='red')\n",
    "plt.legend(['Train Loss', 'Test Loss'], loc='upper right')\n",
    "plt.xlabel('number of training examples seen')\n",
    "plt.ylabel('negative log likelihood loss')\n",
    "fig"
   ]
  },
  {
   "cell_type": "code",
   "execution_count": 30,
   "metadata": {},
   "outputs": [
    {
     "name": "stderr",
     "output_type": "stream",
     "text": [
      "/Library/Frameworks/Python.framework/Versions/3.6/lib/python3.6/site-packages/ipykernel_launcher.py:17: UserWarning: Implicit dimension choice for log_softmax has been deprecated. Change the call to include dim=X as an argument.\n"
     ]
    },
    {
     "data": {
      "image/png": "[encoded data removed]",
      "text/plain": [
       "<Figure size 432x288 with 6 Axes>"
      ]
     },
     "execution_count": 30,
     "metadata": {},
     "output_type": "execute_result"
    },
    {
     "data": {
      "image/png": "[encoded data removed]",
      "text/plain": [
       "<Figure size 432x288 with 6 Axes>"
      ]
     },
     "metadata": {},
     "output_type": "display_data"
    }
   ],
   "source": [
    "with torch.no_grad():\n",
    "  output = network(example_data)\n",
    "fig = plt.figure()\n",
    "for i in range(6):\n",
    "  plt.subplot(2,3,i+1)\n",
    "  plt.tight_layout()\n",
    "  plt.imshow(example_data[i][0], cmap='gray', interpolation='none')\n",
    "  plt.title(\"Prediction: {}\".format(\n",
    "    output.data.max(1, keepdim=True)[1][i].item()))\n",
    "  plt.xticks([])\n",
    "  plt.yticks([])\n",
    "fig"
   ]
  },
  {
   "cell_type": "code",
   "execution_count": 5,
   "metadata": {},
   "outputs": [],
   "source": [
    "from __future__ import print_function"
   ]
  },
  {
   "cell_type": "code",
   "execution_count": 15,
   "metadata": {},
   "outputs": [
    {
     "name": "stdout",
     "output_type": "stream",
     "text": [
      "tensor([[0.4568, 0.4148, 0.4026],\n",
      "        [0.9667, 0.1643, 0.1426],\n",
      "        [0.0686, 0.0096, 0.9883],\n",
      "        [0.2428, 0.2103, 0.7327],\n",
      "        [0.8624, 0.2339, 0.7303]]) tensor([[0.4973, 0.3509, 0.2256, 0.3892],\n",
      "        [0.0722, 0.7137, 0.3009, 0.2694],\n",
      "        [0.8490, 0.4584, 0.0107, 0.6170]]) tensor([[0.5990, 0.6409, 0.2321, 0.5379],\n",
      "        [0.6137, 0.5219, 0.2690, 0.5084],\n",
      "        [0.8738, 0.4840, 0.0289, 0.6390],\n",
      "        [0.7580, 0.5712, 0.1259, 0.6032],\n",
      "        [1.0658, 0.8044, 0.2727, 0.8492]])\n"
     ]
    }
   ],
   "source": [
    "x=torch.rand(5,3)#.cuda()\n",
    "y=torch.rand(3,4)#.cuda()\n",
    "z=torch.mm(x,y)\n",
    "print(x,y,z)"
   ]
  },
  {
   "cell_type": "code",
   "execution_count": 8,
   "metadata": {},
   "outputs": [
    {
     "name": "stdout",
     "output_type": "stream",
     "text": [
      "tensor([[0, 0, 0],\n",
      "        [0, 0, 0],\n",
      "        [0, 0, 0],\n",
      "        [0, 0, 0],\n",
      "        [0, 0, 0]]) tensor([[0.2553, 0.6338, 0.9526],\n",
      "        [0.8063, 0.1399, 0.0129],\n",
      "        [0.0991, 0.2291, 0.6796],\n",
      "        [0.2951, 0.4610, 0.9116],\n",
      "        [0.6632, 0.3474, 0.0647]])\n"
     ]
    }
   ],
   "source": [
    "x=torch.zeros(5,3,dtype=torch.long)\n",
    "print(x,y)"
   ]
  },
  {
   "cell_type": "code",
   "execution_count": 9,
   "metadata": {},
   "outputs": [
    {
     "name": "stdout",
     "output_type": "stream",
     "text": [
      "tensor([5.5000, 3.0000])\n"
     ]
    }
   ],
   "source": [
    "x=torch.tensor([5.5,3])\n",
    "print(x)"
   ]
  },
  {
   "cell_type": "code",
   "execution_count": 10,
   "metadata": {},
   "outputs": [
    {
     "name": "stdout",
     "output_type": "stream",
     "text": [
      "tensor([[1., 1., 1.],\n",
      "        [1., 1., 1.],\n",
      "        [1., 1., 1.],\n",
      "        [1., 1., 1.],\n",
      "        [1., 1., 1.]], dtype=torch.float64)\n",
      "tensor([[ 0.5706, -2.3875,  0.2679],\n",
      "        [-0.3714, -0.7479,  1.2391],\n",
      "        [ 0.1079, -0.6992,  0.8471],\n",
      "        [-0.6667,  1.9401, -1.1033],\n",
      "        [ 0.1619,  1.3867, -0.7586]])\n"
     ]
    }
   ],
   "source": [
    "x=x.new_ones(5,3,dtype=torch.double)\n",
    "print(x)\n",
    "x=torch.randn_like(x,dtype=torch.float)\n",
    "print(x)"
   ]
  },
  {
   "cell_type": "code",
   "execution_count": 11,
   "metadata": {},
   "outputs": [
    {
     "name": "stdout",
     "output_type": "stream",
     "text": [
      "torch.Size([5, 3])\n"
     ]
    }
   ],
   "source": [
    "print(x.size())"
   ]
  },
  {
   "cell_type": "code",
   "execution_count": 12,
   "metadata": {},
   "outputs": [
    {
     "name": "stdout",
     "output_type": "stream",
     "text": [
      "tensor([[ 0.5706, -2.3875,  0.2679],\n",
      "        [-0.3714, -0.7479,  1.2391],\n",
      "        [ 0.1079, -0.6992,  0.8471],\n",
      "        [-0.6667,  1.9401, -1.1033],\n",
      "        [ 0.1619,  1.3867, -0.7586]]) tensor([[0.2553, 0.6338, 0.9526],\n",
      "        [0.8063, 0.1399, 0.0129],\n",
      "        [0.0991, 0.2291, 0.6796],\n",
      "        [0.2951, 0.4610, 0.9116],\n",
      "        [0.6632, 0.3474, 0.0647]]) tensor([[ 0.8259, -1.7537,  1.2205],\n",
      "        [ 0.4349, -0.6080,  1.2520],\n",
      "        [ 0.2070, -0.4701,  1.5267],\n",
      "        [-0.3716,  2.4010, -0.1917],\n",
      "        [ 0.8251,  1.7341, -0.6939]])\n"
     ]
    }
   ],
   "source": [
    "print(x,y,x+y)"
   ]
  },
  {
   "cell_type": "code",
   "execution_count": 18,
   "metadata": {},
   "outputs": [
    {
     "name": "stdout",
     "output_type": "stream",
     "text": [
      "tensor([1., 1., 1., 1., 1.])\n",
      "[1. 1. 1. 1. 1.]\n",
      "tensor([2., 2., 2., 2., 2.]) [2. 2. 2. 2. 2.]\n"
     ]
    }
   ],
   "source": [
    "#converting torch tensor to numpy\n",
    "a=torch.ones(5)\n",
    "print(a)\n",
    "b=a.numpy()\n",
    "print(b)\n",
    "a.add_(1)\n",
    "print(a,b)"
   ]
  },
  {
   "cell_type": "code",
   "execution_count": 20,
   "metadata": {},
   "outputs": [
    {
     "name": "stdout",
     "output_type": "stream",
     "text": [
      "[1. 1. 1. 1. 1.]\n",
      "tensor([1., 1., 1., 1., 1.], dtype=torch.float64)\n",
      "[2. 2. 2. 2. 2.] tensor([2., 2., 2., 2., 2.], dtype=torch.float64)\n"
     ]
    }
   ],
   "source": [
    "#converting numpy to torch\n",
    "a=np.ones(5)\n",
    "print(a)\n",
    "b=torch.from_numpy(a)\n",
    "print(b)\n",
    "np.add(a,1,out=a)\n",
    "print(a,b)"
   ]
  },
  {
   "cell_type": "code",
   "execution_count": 3,
   "metadata": {},
   "outputs": [
    {
     "data": {
      "text/plain": [
       "<torch._C.Generator at 0x11448ff30>"
      ]
     },
     "execution_count": 3,
     "metadata": {},
     "output_type": "execute_result"
    }
   ],
   "source": [
    "n_epochs = 3\n",
    "batch_size_train = 64\n",
    "batch_size_test = 1000\n",
    "learning_rate = 0.01\n",
    "momentum = 0.5\n",
    "log_interval = 10\n",
    "\n",
    "random_seed = 1\n",
    "torch.backends.cudnn.enabled = False\n",
    "torch.manual_seed(random_seed)"
   ]
  },
  {
   "cell_type": "code",
   "execution_count": 15,
   "metadata": {},
   "outputs": [],
   "source": [
    "train_loader = torch.utils.data.DataLoader(\n",
    "    torchvision.datasets.MNIST('/Users/anujatayal/Documents/codes/',train=True,download=True,\n",
    "    transform=torchvision.transforms.Compose([\n",
    "       torchvision.transforms.ToTensor(),\n",
    "        torchvision.transforms.Normalize((0.1307,),(0.3081,))\n",
    "    ])),batch_size=batch_size_train,shuffle=True)"
   ]
  },
  {
   "cell_type": "code",
   "execution_count": 16,
   "metadata": {},
   "outputs": [],
   "source": [
    "test_loader = torch.utils.data.DataLoader(\n",
    "    torchvision.datasets.MNIST('/Users/anujatayal/Documents/codes/',train=False,download=True,\n",
    "    transform=torchvision.transforms.Compose([\n",
    "       torchvision.transforms.ToTensor(),\n",
    "        torchvision.transforms.Normalize((0.1307,),(0.3081,))\n",
    "    ])),batch_size=batch_size_test,shuffle=True)"
   ]
  },
  {
   "cell_type": "code",
   "execution_count": 18,
   "metadata": {},
   "outputs": [
    {
     "data": {
      "text/plain": [
       "torch.Size([1000, 1, 28, 28])"
      ]
     },
     "execution_count": 18,
     "metadata": {},
     "output_type": "execute_result"
    }
   ],
   "source": [
    "examples=enumerate(test_loader)\n",
    "batch_idx,(example_data,example_target)=next(examples)\n",
    "example_data.shape"
   ]
  },
  {
   "cell_type": "code",
   "execution_count": 21,
   "metadata": {},
   "outputs": [
    {
     "data": {
      "image/png": "[encoded data removed]",
      "text/plain": [
       "<Figure size 432x288 with 6 Axes>"
      ]
     },
     "execution_count": 21,
     "metadata": {},
     "output_type": "execute_result"
    },
    {
     "data": {
      "image/png": "[encoded data removed]",
      "text/plain": [
       "<Figure size 432x288 with 6 Axes>"
      ]
     },
     "metadata": {},
     "output_type": "display_data"
    }
   ],
   "source": [
    "import matplotlib.pyplot as plt\n",
    "\n",
    "fig = plt.figure()\n",
    "for i in range(6):\n",
    "  plt.subplot(2,3,i+1)\n",
    "  plt.tight_layout()\n",
    "  plt.imshow(example_data[i][0], cmap='gray', interpolation='none')\n",
    "  plt.title(\"Ground Truth: {}\".format(example_target[i]))\n",
    "  plt.xticks([])\n",
    "  plt.yticks([])\n",
    "fig    "
   ]
  },
  {
   "cell_type": "code",
   "execution_count": null,
   "metadata": {},
   "outputs": [],
   "source": []
  }
 ],
 "metadata": {
  "kernelspec": {
   "display_name": "Python 3",
   "language": "python",
   "name": "python3"
  },
  "language_info": {
   "codemirror_mode": {
    "name": "ipython",
    "version": 3
   },
   "file_extension": ".py",
   "mimetype": "text/x-python",
   "name": "python",
   "nbconvert_exporter": "python",
   "pygments_lexer": "ipython3",
   "version": "3.6.2"
  }
 },
 "nbformat": 4,
 "nbformat_minor": 2
}
